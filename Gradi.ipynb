{
 "cells": [
  {
   "cell_type": "code",
   "execution_count": 1,
   "metadata": {},
   "outputs": [
    {
     "name": "stderr",
     "output_type": "stream",
     "text": [
      "C:\\Users\\Pc\\AppData\\Local\\Packages\\PythonSoftwareFoundation.Python.3.13_qbz5n2kfra8p0\\LocalCache\\local-packages\\Python313\\site-packages\\tqdm\\auto.py:21: TqdmWarning: IProgress not found. Please update jupyter and ipywidgets. See https://ipywidgets.readthedocs.io/en/stable/user_install.html\n",
      "  from .autonotebook import tqdm as notebook_tqdm\n"
     ]
    }
   ],
   "source": [
    "import gradio as gr\n",
    "import pickle\n",
    "import numpy as np\n",
    "import pandas as pd"
   ]
  },
  {
   "cell_type": "code",
   "execution_count": 9,
   "metadata": {},
   "outputs": [],
   "source": [
    "def predict_diabetes(Pregnancies,Glucose,BloodPressure,SkinThickness,Insulin,BMI,DiabetesPedigreeFunction,Age):\n",
    "    input_data={\n",
    "        'Pregnancies':Pregnancies,\n",
    "        'Glucose':Pregnancies,\n",
    "        'BloodPressure':Pregnancies,\n",
    "        'SkinThickness':SkinThickness,\n",
    "        'Insulin':Insulin,\n",
    "        'BMI':BMI,\n",
    "        'DiabetesPedigreeFunction':DiabetesPedigreeFunction,\n",
    "        'Age':Age\n",
    "    }\n",
    "    input_data=pd.DataFrame([input_data])\n",
    "    input_data['p_Age']=np.log1p(input_data['Age'])\n",
    "    input_data=input_data.drop('Age',axis=1)\n",
    "\n",
    "    model=pickle.load(open('model.pkl','rb'))\n",
    "    prediction=model.predict(input_data)[0]\n",
    "    if prediction==0:\n",
    "        return \"The patient does not have diabetes.\"\n",
    "    else:\n",
    "        return \"The patient has diabetes.\""
   ]
  },
  {
   "cell_type": "code",
   "execution_count": 10,
   "metadata": {},
   "outputs": [],
   "source": [
    "intface=gr.Interface(\n",
    "    fn=predict_diabetes,\n",
    "    inputs=[\n",
    "        gr.Number(label='Pregnancies'),\n",
    "        gr.Number(label='Glucose'),\n",
    "        gr.Number(label='BloodPressure'),\n",
    "        gr.Number(label='SkinThickness'),\n",
    "        gr.Number(label='Insulin'),\n",
    "        gr.Number(label='BMI'),\n",
    "        gr.Number(label='DiabetesPedigreeFunction'),\n",
    "        gr.Number(label='Age')\n",
    "    ],\n",
    "    outputs='text',\n",
    "    title='Diabetes',\n",
    ")"
   ]
  },
  {
   "cell_type": "code",
   "execution_count": 11,
   "metadata": {},
   "outputs": [
    {
     "name": "stdout",
     "output_type": "stream",
     "text": [
      "* Running on local URL:  http://127.0.0.1:7862\n",
      "\n",
      "To create a public link, set `share=True` in `launch()`.\n"
     ]
    },
    {
     "data": {
      "text/html": [
       "<div><iframe src=\"http://127.0.0.1:7862/\" width=\"100%\" height=\"500\" allow=\"autoplay; camera; microphone; clipboard-read; clipboard-write;\" frameborder=\"0\" allowfullscreen></iframe></div>"
      ],
      "text/plain": [
       "<IPython.core.display.HTML object>"
      ]
     },
     "metadata": {},
     "output_type": "display_data"
    },
    {
     "data": {
      "text/plain": []
     },
     "execution_count": 11,
     "metadata": {},
     "output_type": "execute_result"
    }
   ],
   "source": [
    "intface.launch()"
   ]
  }
 ],
 "metadata": {
  "kernelspec": {
   "display_name": "Python 3",
   "language": "python",
   "name": "python3"
  },
  "language_info": {
   "codemirror_mode": {
    "name": "ipython",
    "version": 3
   },
   "file_extension": ".py",
   "mimetype": "text/x-python",
   "name": "python",
   "nbconvert_exporter": "python",
   "pygments_lexer": "ipython3",
   "version": "3.13.1"
  }
 },
 "nbformat": 4,
 "nbformat_minor": 2
}
